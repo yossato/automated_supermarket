{
 "cells": [
  {
   "cell_type": "code",
   "execution_count": 1,
   "metadata": {},
   "outputs": [],
   "source": [
    "from selenium import webdriver"
   ]
  },
  {
   "cell_type": "code",
   "execution_count": 4,
   "metadata": {},
   "outputs": [],
   "source": [
    "browser = webdriver.Firefox()"
   ]
  },
  {
   "cell_type": "code",
   "execution_count": 5,
   "metadata": {},
   "outputs": [],
   "source": [
    "type(browser)\n",
    "browser.get('https://www.iy-net.jp/nspc/logininput.do')"
   ]
  },
  {
   "cell_type": "code",
   "execution_count": 10,
   "metadata": {},
   "outputs": [],
   "source": [
    "# この店舗を選択する\n",
    "shop = browser.find_element_by_css_selector('a.btn:nth-child(3)')\n",
    "shop.click()"
   ]
  },
  {
   "cell_type": "code",
   "execution_count": 15,
   "metadata": {},
   "outputs": [
    {
     "name": "stdout",
     "output_type": "stream",
     "text": [
      "次のページヘ は見つからなかった\n"
     ]
    }
   ],
   "source": [
    "# 次のページへ を探す\n",
    "try:\n",
    "    elem = browser.find_element_by_css_selector('body > div:nth-child(4) > div:nth-child(3) > a:nth-child(1) > img:nth-child(1)')\n",
    "    print('次のページヘ を見つけた')\n",
    "    elem.click()\n",
    "except:\n",
    "    print('次のページヘ は見つからなかった')\n",
    "        "
   ]
  },
  {
   "cell_type": "code",
   "execution_count": 17,
   "metadata": {},
   "outputs": [
    {
     "name": "stdout",
     "output_type": "stream",
     "text": [
      "お知らせ を見つけた\n"
     ]
    }
   ],
   "source": [
    "# お知らせ\n",
    "try:\n",
    "    elem = browser.find_element_by_css_selector('a.uW12')\n",
    "    print('お知らせ を見つけた')\n",
    "    elem.click()\n",
    "except:\n",
    "    print('お知らせ は見つからなかった')\n",
    "        "
   ]
  },
  {
   "cell_type": "code",
   "execution_count": 19,
   "metadata": {},
   "outputs": [],
   "source": [
    "# きゅうりを探す\n",
    "elem = browser.find_element_by_id('searchtxt')\n",
    "elem.send_keys('きゅうり')"
   ]
  },
  {
   "cell_type": "code",
   "execution_count": null,
   "metadata": {},
   "outputs": [],
   "source": []
  }
 ],
 "metadata": {
  "kernelspec": {
   "display_name": "Python 3",
   "language": "python",
   "name": "python3"
  },
  "language_info": {
   "codemirror_mode": {
    "name": "ipython",
    "version": 3
   },
   "file_extension": ".py",
   "mimetype": "text/x-python",
   "name": "python",
   "nbconvert_exporter": "python",
   "pygments_lexer": "ipython3",
   "version": "3.5.2"
  }
 },
 "nbformat": 4,
 "nbformat_minor": 4
}
