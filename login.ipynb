{
 "cells": [
  {
   "cell_type": "code",
   "execution_count": 13,
   "metadata": {},
   "outputs": [],
   "source": [
    "from selenium import webdriver"
   ]
  },
  {
   "cell_type": "code",
   "execution_count": 14,
   "metadata": {},
   "outputs": [],
   "source": [
    "browser = webdriver.Firefox()"
   ]
  },
  {
   "cell_type": "code",
   "execution_count": 15,
   "metadata": {},
   "outputs": [],
   "source": [
    "type(browser)\n",
    "browser.get('https://www.iy-net.jp/nspc/logininput.do')"
   ]
  },
  {
   "cell_type": "code",
   "execution_count": 16,
   "metadata": {},
   "outputs": [],
   "source": [
    "# この店舗を選択する\n",
    "shop = browser.find_element_by_css_selector('a.btn:nth-child(3)')\n",
    "shop.click()"
   ]
  },
  {
   "cell_type": "code",
   "execution_count": 17,
   "metadata": {},
   "outputs": [
    {
     "name": "stdout",
     "output_type": "stream",
     "text": [
      "次のページヘ を見つけた\n"
     ]
    }
   ],
   "source": [
    "# 次のページへ を探す\n",
    "try:\n",
    "    elem = browser.find_element_by_css_selector('body > div:nth-child(4) > div:nth-child(3) > a:nth-child(1) > img:nth-child(1)')\n",
    "    print('次のページヘ を見つけた')\n",
    "    elem.click()\n",
    "except:\n",
    "    print('次のページヘ は見つからなかった')\n",
    "        "
   ]
  },
  {
   "cell_type": "code",
   "execution_count": 18,
   "metadata": {},
   "outputs": [
    {
     "name": "stdout",
     "output_type": "stream",
     "text": [
      "お知らせ を見つけた\n"
     ]
    }
   ],
   "source": [
    "# お知らせ\n",
    "try:\n",
    "    elem = browser.find_element_by_css_selector('a.uW12')\n",
    "    print('お知らせ を見つけた')\n",
    "    elem.click()\n",
    "except:\n",
    "    print('お知らせ は見つからなかった')\n",
    "        "
   ]
  },
  {
   "cell_type": "code",
   "execution_count": 12,
   "metadata": {},
   "outputs": [],
   "source": [
    "# きゅうりを探す\n",
    "elem = browser.find_element_by_id('searchtxt')\n",
    "elem.send_keys('きゅうり')"
   ]
  },
  {
   "cell_type": "code",
   "execution_count": 26,
   "metadata": {},
   "outputs": [
    {
     "name": "stdout",
     "output_type": "stream",
     "text": [
      "リケン　わかめスープ　スパイシーねぎ塩スープ　（８袋入）\n"
     ]
    }
   ],
   "source": [
    "# お気に入りにある2番目の商品の名前を取得\n",
    "elem = browser.find_element_by_css_selector('li.goodsitem:nth-child(11) > div:nth-child(2) > div:nth-child(1) > p:nth-child(2) > a:nth-child(2)')\n",
    "print(elem.text)"
   ]
  },
  {
   "cell_type": "code",
   "execution_count": 27,
   "metadata": {},
   "outputs": [],
   "source": [
    "# お気に入りにある2番目の商品をカートへ入れる\n",
    "elem = browser.find_element_by_css_selector('li.goodsitem:nth-child(11) > div:nth-child(3) > p:nth-child(2) > a:nth-child(2)')\n",
    "elem.click()"
   ]
  },
  {
   "cell_type": "code",
   "execution_count": 28,
   "metadata": {},
   "outputs": [
    {
     "name": "stdout",
     "output_type": "stream",
     "text": [
      "ニチレイ　特から　（４１５ｇ）\n"
     ]
    }
   ],
   "source": [
    "# 同1番目\n",
    "elem = browser.find_element_by_css_selector('li.goodsitem:nth-child(10) > div:nth-child(2) > div:nth-child(1) > p:nth-child(2) > a:nth-child(2)')\n",
    "print(elem.text)\n",
    "elem = browser.find_element_by_css_selector('li.goodsitem:nth-child(10) > div:nth-child(3) > p:nth-child(2) > a:nth-child(2)')\n",
    "elem.click()"
   ]
  },
  {
   "cell_type": "code",
   "execution_count": null,
   "metadata": {},
   "outputs": [],
   "source": []
  }
 ],
 "metadata": {
  "kernelspec": {
   "display_name": "Python 3",
   "language": "python",
   "name": "python3"
  },
  "language_info": {
   "codemirror_mode": {
    "name": "ipython",
    "version": 3
   },
   "file_extension": ".py",
   "mimetype": "text/x-python",
   "name": "python",
   "nbconvert_exporter": "python",
   "pygments_lexer": "ipython3",
   "version": "3.5.2"
  }
 },
 "nbformat": 4,
 "nbformat_minor": 4
}
